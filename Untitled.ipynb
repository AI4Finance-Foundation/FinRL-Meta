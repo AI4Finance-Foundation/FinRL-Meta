{
 "cells": [
  {
   "cell_type": "code",
   "execution_count": null,
   "id": "90de43ea-1e61-4a88-add7-06a204a9543e",
   "metadata": {},
   "outputs": [],
   "source": [
    "import pandas as pd\n",
    "from neo_finrl.env_fx_trading.env_fx import tgym\n",
    "import time\n",
    "import datetime\n",
    "from stable_baselines3 import PPO\n",
    "from stable_baselines3.common.env_util import make_vec_env\n",
    "file =\"./data/split/GBPUSD/weekly/GBPUSD_2017_2.csv\"\n",
    "df = pd.read_csv(file)\n",
    "t = tgym(df)\n",
    "\n",
    "# if model: del model # remove to demonstrate saving and loading\n",
    "model_name='./data/models/GBPUSD-week'\n",
    "model = PPO.load(model_name)\n",
    "\n",
    "start_time = time.time()\n",
    "obs = t.reset()\n",
    "t.current_step=0\n",
    "done = False\n",
    "while not done:\n",
    "    action, _states = model.predict(obs)\n",
    "    obs, rewards, done, info = t.step(action)\n",
    "    print(action, rewards)\n",
    "    t.render(mode='graph')\n",
    "print(f\"--- running time: {(time.time() - start_time)}---\")"
   ]
  },
  {
   "cell_type": "code",
   "execution_count": 8,
   "id": "f64bc84a-0c64-401e-bd5c-1ac86ba68c91",
   "metadata": {},
   "outputs": [
    {
     "data": {
      "text/plain": [
       "False"
      ]
     },
     "execution_count": 8,
     "metadata": {},
     "output_type": "execute_result"
    }
   ],
   "source": [
    "action[0] > 0"
   ]
  },
  {
   "cell_type": "code",
   "execution_count": null,
   "id": "1584cddb-e822-498a-836a-d3464ae6b345",
   "metadata": {},
   "outputs": [],
   "source": []
  }
 ],
 "metadata": {
  "interpreter": {
   "hash": "ad34f84fda78c675455054a1d2541691907551bfbbd231b45137936e03f98b03"
  },
  "kernelspec": {
   "display_name": "Python 3.8.6rc1 64-bit ('.venv': venv)",
   "name": "python3"
  },
  "language_info": {
   "codemirror_mode": {
    "name": "ipython",
    "version": 3
   },
   "file_extension": ".py",
   "mimetype": "text/x-python",
   "name": "python",
   "nbconvert_exporter": "python",
   "pygments_lexer": "ipython3",
   "version": "3.8.6rc1"
  }
 },
 "nbformat": 4,
 "nbformat_minor": 5
}
