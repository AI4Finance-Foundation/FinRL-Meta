{
 "cells": [
  {
   "cell_type": "code",
   "execution_count": 1,
   "id": "a0bed929-ebbb-42e6-92ea-2d3db0635523",
   "metadata": {},
   "outputs": [
    {
     "name": "stderr",
     "output_type": "stream",
     "text": [
      "c:\\github\\NeoFinRL\\.venv\\lib\\site-packages\\setuptools\\distutils_patch.py:25: UserWarning: Distutils was imported before Setuptools. This usage is discouraged and may exhibit undesirable behaviors or errors. Please use Setuptools' objects directly or at least import Setuptools first.\n",
      "  warnings.warn(\n"
     ]
    }
   ],
   "source": [
    "import time\n",
    "import datetime\n",
    "import pandas as pd\n",
    "from neo_finrl.env_fx_trading.env_fx import tgym"
   ]
  },
  {
   "cell_type": "code",
   "execution_count": null,
   "id": "f7d16e13-67dc-403a-96db-91bf3d3f52b6",
   "metadata": {},
   "outputs": [],
   "source": [
    "import os\n",
    "files=[]\n",
    "for i in range(0,4): \n",
    "    file = f\"./data/split/GBPUSD/weekly/GBPUSD_2017_{i}.csv\"\n",
    "    if os.path.isfile(file):\n",
    "        files.append(file)\n",
    "            \n",
    "    else:\n",
    "        print(f'not exist: {file}')\n",
    "print(files)    \n"
   ]
  },
  {
   "cell_type": "code",
   "execution_count": 3,
   "id": "ecd1fc11-0018-46c9-a1c5-d2d7d0eeb8ca",
   "metadata": {},
   "outputs": [],
   "source": [
    "def train(env, agent, files, model_name, if_vix = True,**kwargs):\n",
    "    learning_rate = kwargs.get('learning_rate', 3e-4)\n",
    "    batch_size = kwargs.get('batch_size', 1024 )\n",
    "    gamma = kwargs.get('gamma', 0.99)\n",
    "    seed = kwargs.get('seed', 1)\n",
    "    total_timesteps = kwargs.get('total_timesteps', 1e5)\n",
    "    net_dimension = kwargs.get('net_dimension', 2**9)\n",
    "    cwd = kwargs.get('cwd','./'+str(agent))\n",
    "\n",
    "    # env_instance = map(env, [pd.read_csv(f) for f in files])\n",
    "    if agent == 'ppo':\n",
    "        from stable_baselines3 import PPO\n",
    "        from stable_baselines3.common.vec_env import SubprocVecEnv, DummyVecEnv\n",
    "        ppo_kwargs = {\"learning_rate\":learning_rate,\n",
    "                        \"n_steps\":2048, \n",
    "                        \"batch_size\":batch_size, \n",
    "                        \"ent_coef\":0.0, \n",
    "                        \"gamma\":gamma, \n",
    "                        \"seed\":seed, \n",
    "                        \"verbose\":0, \n",
    "                        \"epsilon\":0.5,\n",
    "                        \"tensorboard_log\":\"./data/tensorboard/\"}\n",
    "\n",
    "        # env_train = [x.get_sb_env for x in env_instance ]\n",
    "        vector_env = [lambda:env(df=pd.read_csv(f)) for f in files]\n",
    "        env_train = SubprocVecEnv(vector_env)\n",
    "        start_time = time.time()\n",
    "        s = datetime.datetime.now()\n",
    "        print(f'Training start: {s}')\n",
    "        if os.path.exists(model_name):\n",
    "            model = PPO.load(model_name, env=env_train, **ppo_kwargs)\n",
    "            print(f'retaining model: {model_name}')\n",
    "            model.learn(total_timesteps=total_timesteps)\n",
    "            model.save(model_name)\n",
    "        else:\n",
    "            model = PPO(\"MlpPolicy\", env=env_train, **ppo_kwargs)\n",
    "            model.learn(total_timesteps=total_timesteps)\n",
    "            model.save(model_name)\n",
    "\n",
    "        print('Training finished!')\n",
    "        model_name_session = \"./data/models/GBPUSD-week-\" + s.strftime('%Y%m%d%H%M%S')\n",
    "        model.save(model_name_session)\n",
    "        print(f'Trained model saved in {model_name_session}')\n",
    "        print(f\"trainning time: {(time.time() - start_time)}\")\n",
    "\n",
    "    else:\n",
    "        raise ValueError('DRL library input is NOT supported. Please check.')\n",
    "#'total_timesteps', 1e6\n",
    "#trainning time: 2398.8598108291626"
   ]
  },
  {
   "cell_type": "code",
   "execution_count": 4,
   "id": "a5b6cfe4-2bec-4135-b31b-60c8ac71d5aa",
   "metadata": {},
   "outputs": [
    {
     "name": "stdout",
     "output_type": "stream",
     "text": [
      "training on ./data/split/GBPUSD/weekly/GBPUSD_2017_0.csv\n",
      "Training start: 2021-11-06 07:01:42.209447\n",
      "retaining model: ./data/models/gbpusd-week.zip\n",
      "Training finished!\n",
      "Trained model saved in ./data/models/GBPUSD-week-20211106070142\n",
      "trainning time: 155.5560007095337\n",
      "training on ./data/split/GBPUSD/weekly/GBPUSD_2017_1.csv\n",
      "Training start: 2021-11-06 07:04:28.135808\n",
      "retaining model: ./data/models/gbpusd-week.zip\n",
      "Training finished!\n",
      "Trained model saved in ./data/models/GBPUSD-week-20211106070428\n",
      "trainning time: 142.79399943351746\n"
     ]
    },
    {
     "ename": "NameError",
     "evalue": "name 'files' is not defined",
     "output_type": "error",
     "traceback": [
      "\u001b[1;31m---------------------------------------------------------------------------\u001b[0m",
      "\u001b[1;31mNameError\u001b[0m                                 Traceback (most recent call last)",
      "\u001b[1;32m~\\AppData\\Local\\Temp/ipykernel_13104/1182516388.py\u001b[0m in \u001b[0;36m<module>\u001b[1;34m\u001b[0m\n\u001b[0;32m      8\u001b[0m     \u001b[1;32melse\u001b[0m\u001b[1;33m:\u001b[0m\u001b[1;33m\u001b[0m\u001b[1;33m\u001b[0m\u001b[0m\n\u001b[0;32m      9\u001b[0m         \u001b[0mprint\u001b[0m\u001b[1;33m(\u001b[0m\u001b[1;34mf'not exist: {file}'\u001b[0m\u001b[1;33m)\u001b[0m\u001b[1;33m\u001b[0m\u001b[1;33m\u001b[0m\u001b[0m\n\u001b[1;32m---> 10\u001b[1;33m \u001b[0mprint\u001b[0m\u001b[1;33m(\u001b[0m\u001b[0mfiles\u001b[0m\u001b[1;33m)\u001b[0m\u001b[1;33m\u001b[0m\u001b[1;33m\u001b[0m\u001b[0m\n\u001b[0m",
      "\u001b[1;31mNameError\u001b[0m: name 'files' is not defined"
     ]
    }
   ],
   "source": [
    "import os\n",
    "m = './data/models/gbpusd-week.zip'\n",
    "for i in range(0,2): \n",
    "    file = f\"./data/split/GBPUSD/weekly/GBPUSD_2017_{i}.csv\"\n",
    "    if os.path.isfile(file):\n",
    "        print(f'training on {file}')\n",
    "        train(env=tgym,agent=\"ppo\",model_name = m, files=[file])            \n",
    "    else:\n",
    "        print(f'not exist: {file}')\n",
    " "
   ]
  },
  {
   "cell_type": "code",
   "execution_count": null,
   "id": "429675ae-949e-4013-8302-e724700a3250",
   "metadata": {},
   "outputs": [],
   "source": [
    "run at 10:36 to check loading time."
   ]
  },
  {
   "cell_type": "code",
   "execution_count": null,
   "id": "40df8d7c-5f86-42bd-be09-c8317231c16f",
   "metadata": {},
   "outputs": [],
   "source": [
    "import pandas as pd\n",
    "from neo_finrl.env_fx_trading.env_fx import tgym\n",
    "import time\n",
    "import datetime\n",
    "from stable_baselines3 import PPO\n",
    "from stable_baselines3.common.env_util import make_vec_env\n",
    "file =\"./data/split/GBPUSD/weekly/GBPUSD_2017_0.csv\"\n",
    "df = pd.read_csv(file)\n",
    "t = tgym(df)\n",
    "\n",
    "# if model: del model # remove to demonstrate saving and loading\n",
    "model_name='./data/models/GBPUSD-week'\n",
    "model = PPO.load(model_name)\n",
    "\n",
    "start_time = time.time()\n",
    "obs = t.reset()\n",
    "t.current_step=0\n",
    "done = False\n",
    "while not done:\n",
    "    action, _states = model.predict(obs)\n",
    "    obs, rewards, done, info = t.step(action)\n",
    "    print(action, rewards)\n",
    "    t.render(mode='graph')\n",
    "print(f\"--- running time: {(time.time() - start_time)}---\")"
   ]
  },
  {
   "cell_type": "code",
   "execution_count": null,
   "id": "d9036039-d1b3-46d4-83f8-b5d10186212b",
   "metadata": {},
   "outputs": [],
   "source": []
  }
 ],
 "metadata": {
  "interpreter": {
   "hash": "ad34f84fda78c675455054a1d2541691907551bfbbd231b45137936e03f98b03"
  },
  "kernelspec": {
   "display_name": "Python 3.8.6rc1 64-bit ('.venv': venv)",
   "name": "python3"
  },
  "language_info": {
   "codemirror_mode": {
    "name": "ipython",
    "version": 3
   },
   "file_extension": ".py",
   "mimetype": "text/x-python",
   "name": "python",
   "nbconvert_exporter": "python",
   "pygments_lexer": "ipython3",
   "version": "3.8.6rc1"
  }
 },
 "nbformat": 4,
 "nbformat_minor": 5
}
